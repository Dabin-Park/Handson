{
  "cells": [
    {
      "cell_type": "markdown",
      "metadata": {
        "id": "view-in-github",
        "colab_type": "text"
      },
      "source": [
        "<a href=\"https://colab.research.google.com/github/Dabin-Park/Handson/blob/main/%ED%95%B8%EC%A6%88%EC%98%A8%206%EB%8B%A8%EC%9B%90%20%EC%97%B0%EC%8A%B5%EB%AC%B8%EC%A0%9C(%EC%95%84%EC%A7%81%20%EC%95%88%ED%95%A8).ipynb\" target=\"_parent\"><img src=\"https://colab.research.google.com/assets/colab-badge.svg\" alt=\"Open In Colab\"/></a>"
      ]
    },
    {
      "cell_type": "markdown",
      "metadata": {
        "collapsed": true,
        "id": "uYLf3xov4JXN"
      },
      "source": [
        "# 연습문제 해답"
      ]
    },
    {
      "cell_type": "markdown",
      "metadata": {
        "id": "VafeugcM4JXO"
      },
      "source": [
        "## 1. to 6."
      ]
    },
    {
      "cell_type": "markdown",
      "metadata": {
        "id": "85IAtuSm4JXO"
      },
      "source": [
        "부록 A 참조."
      ]
    },
    {
      "cell_type": "markdown",
      "source": [
        "# 7번"
      ],
      "metadata": {
        "id": "usN3lhuowhZV"
      }
    },
    {
      "cell_type": "markdown",
      "source": [
        "## 7번 내풀이"
      ],
      "metadata": {
        "id": "AuHSy78HwbaB"
      }
    },
    {
      "cell_type": "markdown",
      "source": [
        "- 다음 단계를 따라 moons 데이터셋에 결정 트리를 훈련시키고 세밀하게 튜닝해보세요."
      ],
      "metadata": {
        "id": "7YyKto3LwoFC"
      }
    },
    {
      "cell_type": "markdown",
      "source": [
        "1. make_moons(n_samples = 1000, noise = 0.4)를 사용해 데이터셋을 생성합니다. "
      ],
      "metadata": {
        "id": "oZLXElbUwvSW"
      }
    },
    {
      "cell_type": "code",
      "source": [
        "from sklearn.datasets import make_moons\n",
        "\n",
        "X, y = make_moons(n_samples=1000, noise=0.4, random_state= 23)"
      ],
      "metadata": {
        "id": "hffoHBAXxCkU"
      },
      "execution_count": null,
      "outputs": []
    },
    {
      "cell_type": "markdown",
      "source": [
        "2. 이를 train_test_split()을 사용해 훈련 세트와 테스트 세트로 나눕니다. "
      ],
      "metadata": {
        "id": "v3Xh2cqExNf8"
      }
    },
    {
      "cell_type": "code",
      "source": [
        "from sklearn.model_selection import train_test_split\n",
        "\n",
        "X_train, X_test, y_train, y_test = train_test_split(X, y, test_size=0.3, random_state= 23)"
      ],
      "metadata": {
        "id": "svYI9SMJxiZp"
      },
      "execution_count": null,
      "outputs": []
    },
    {
      "cell_type": "markdown",
      "source": [
        "3. DecisionTreeClassifier의 최적의 매개변수를 찾기 위해 교차 검증과 함께 그리그 탐색을 수행합니다(GridSearchCV를 사용하면 됩니다).\n",
        "    - 힌트 : 여러가지 max_leaf_nodes 값을 시도해 보세요"
      ],
      "metadata": {
        "id": "8LMNwMqdyAk6"
      }
    },
    {
      "cell_type": "code",
      "source": [
        "from sklearn.tree import DecisionTreeClassifier\n",
        "\n",
        "DTC = DecisionTreeClassifier(random_state= 23)\n",
        "DTC.fit(X_train,y_train)\n",
        "y_predict = DTC.predict(X_test)\n",
        "accuracy_score(y_test, y_predict)"
      ],
      "metadata": {
        "colab": {
          "base_uri": "https://localhost:8080/"
        },
        "id": "sSMOMziszyZI",
        "outputId": "bce23e11-7f86-4be6-aaa0-064e9004671f"
      },
      "execution_count": null,
      "outputs": [
        {
          "output_type": "execute_result",
          "data": {
            "text/plain": [
              "0.7733333333333333"
            ]
          },
          "metadata": {},
          "execution_count": 169
        }
      ]
    },
    {
      "cell_type": "code",
      "source": [
        "from sklearn.model_selection import RandomizedSearchCV\n",
        "para = {'max_depth' : range(2,10), 'min_samples_split' : range(2,10), 'max_leaf_nodes' : range(2,100)}\n",
        "\n",
        "rnd_search_cv = RandomizedSearchCV(DTC, para, n_iter=1000, verbose=1, cv=3, random_state= 23)\n",
        "rnd_search_cv.fit(X_train, y_train)"
      ],
      "metadata": {
        "id": "ui_nb_ZZyswz",
        "colab": {
          "base_uri": "https://localhost:8080/"
        },
        "outputId": "29efb65f-5728-46fc-f78f-2658b98940bb"
      },
      "execution_count": null,
      "outputs": [
        {
          "output_type": "stream",
          "name": "stdout",
          "text": [
            "Fitting 3 folds for each of 1000 candidates, totalling 3000 fits\n"
          ]
        },
        {
          "output_type": "execute_result",
          "data": {
            "text/plain": [
              "RandomizedSearchCV(cv=3, estimator=DecisionTreeClassifier(random_state=23),\n",
              "                   n_iter=1000,\n",
              "                   param_distributions={'max_depth': range(2, 10),\n",
              "                                        'max_leaf_nodes': range(2, 100),\n",
              "                                        'min_samples_split': range(2, 10)},\n",
              "                   random_state=23, verbose=1)"
            ]
          },
          "metadata": {},
          "execution_count": 170
        }
      ]
    },
    {
      "cell_type": "code",
      "source": [
        "rnd_search_cv.best_estimator_"
      ],
      "metadata": {
        "colab": {
          "base_uri": "https://localhost:8080/"
        },
        "id": "28WSNWCw2OUx",
        "outputId": "b1b6716d-3e31-49df-b257-894a0586dc43"
      },
      "execution_count": null,
      "outputs": [
        {
          "output_type": "execute_result",
          "data": {
            "text/plain": [
              "DecisionTreeClassifier(max_depth=6, max_leaf_nodes=11, min_samples_split=7,\n",
              "                       random_state=23)"
            ]
          },
          "metadata": {},
          "execution_count": 171
        }
      ]
    },
    {
      "cell_type": "markdown",
      "source": [
        "4. 찾은 매개변수를 사용해 전체 훈련세트에 대해 모델을 훈련시키고 테스트세트에서 성능을 측정합니다.     \n",
        "대략 85% ~ 87%의 정확도가 나올 것입니다. "
      ],
      "metadata": {
        "id": "70Hd_FvS170N"
      }
    },
    {
      "cell_type": "code",
      "source": [
        "from sklearn.metrics import accuracy_score\n",
        "rnd_search_cv.best_estimator_.fit(X_train,y_train)\n",
        "y_pred = rnd_search_cv.best_estimator_.predict(X_test)\n",
        "accuracy_score(y_test, y_pred)"
      ],
      "metadata": {
        "colab": {
          "base_uri": "https://localhost:8080/"
        },
        "id": "tP4-hWVN2fgB",
        "outputId": "8ede1129-44f8-414e-bae7-f0acf4777224"
      },
      "execution_count": null,
      "outputs": [
        {
          "output_type": "execute_result",
          "data": {
            "text/plain": [
              "0.83"
            ]
          },
          "metadata": {},
          "execution_count": 172
        }
      ]
    },
    {
      "cell_type": "markdown",
      "metadata": {
        "collapsed": true,
        "id": "2OmX3vzB4JXO"
      },
      "source": [
        "## 7."
      ]
    },
    {
      "cell_type": "markdown",
      "metadata": {
        "id": "WTQvtnlU4JXO"
      },
      "source": [
        "_문제: moons 데이터셋에 결정 트리를 훈련시키고 세밀하게 튜닝해보세요._"
      ]
    },
    {
      "cell_type": "markdown",
      "metadata": {
        "id": "j0qikrSI4JXP"
      },
      "source": [
        "a. `make_moons(n_samples=1000, noise=0.4)`를 사용해 데이터셋을 생성합니다."
      ]
    },
    {
      "cell_type": "markdown",
      "metadata": {
        "id": "dcKZ6Yx34JXP"
      },
      "source": [
        "`random_state=42`를 지정하여 결과를 일정하게 만듭니다:"
      ]
    },
    {
      "cell_type": "code",
      "execution_count": null,
      "metadata": {
        "execution": {
          "iopub.execute_input": "2021-10-23T12:53:20.960860Z",
          "iopub.status.busy": "2021-10-23T12:53:20.959219Z",
          "iopub.status.idle": "2021-10-23T12:53:20.965924Z",
          "shell.execute_reply": "2021-10-23T12:53:20.965104Z"
        },
        "id": "bzRXl98N4JXP"
      },
      "outputs": [],
      "source": [
        "from sklearn.datasets import make_moons\n",
        "\n",
        "X, y = make_moons(n_samples=10000, noise=0.4, random_state=42)"
      ]
    },
    {
      "cell_type": "markdown",
      "metadata": {
        "id": "UAvBCRzw4JXQ"
      },
      "source": [
        "b. 이를 `train_test_split()`을 사용해 훈련 세트와 테스트 세트로 나눕니다"
      ]
    },
    {
      "cell_type": "code",
      "execution_count": null,
      "metadata": {
        "execution": {
          "iopub.execute_input": "2021-10-23T12:53:20.973986Z",
          "iopub.status.busy": "2021-10-23T12:53:20.973011Z",
          "iopub.status.idle": "2021-10-23T12:53:20.978422Z",
          "shell.execute_reply": "2021-10-23T12:53:20.977633Z"
        },
        "id": "AbaXN7zw4JXQ"
      },
      "outputs": [],
      "source": [
        "from sklearn.model_selection import train_test_split\n",
        "\n",
        "X_train, X_test, y_train, y_test = train_test_split(X, y, test_size=0.2, random_state=42)"
      ]
    },
    {
      "cell_type": "markdown",
      "metadata": {
        "id": "11EKWC924JXQ"
      },
      "source": [
        "c. `DecisionTreeClassifier`의 최적의 매개변수를 찾기 위해 교차 검증과 함께 그리드 탐색을 수행합니다(`GridSearchCV`를 사용하면 됩니다). 힌트: 여러 가지 `max_leaf_nodes` 값을 시도해보세요."
      ]
    },
    {
      "cell_type": "code",
      "execution_count": null,
      "metadata": {
        "execution": {
          "iopub.execute_input": "2021-10-23T12:53:20.986074Z",
          "iopub.status.busy": "2021-10-23T12:53:20.985159Z",
          "iopub.status.idle": "2021-10-23T12:53:42.687309Z",
          "shell.execute_reply": "2021-10-23T12:53:42.686455Z"
        },
        "id": "8WGNLDvw4JXR",
        "outputId": "af03041e-689b-47ea-9b30-0c2584334284",
        "colab": {
          "base_uri": "https://localhost:8080/"
        }
      },
      "outputs": [
        {
          "output_type": "stream",
          "name": "stdout",
          "text": [
            "Fitting 3 folds for each of 294 candidates, totalling 882 fits\n"
          ]
        },
        {
          "output_type": "execute_result",
          "data": {
            "text/plain": [
              "GridSearchCV(cv=3, estimator=DecisionTreeClassifier(random_state=42),\n",
              "             param_grid={'max_leaf_nodes': [2, 3, 4, 5, 6, 7, 8, 9, 10, 11, 12,\n",
              "                                            13, 14, 15, 16, 17, 18, 19, 20, 21,\n",
              "                                            22, 23, 24, 25, 26, 27, 28, 29, 30,\n",
              "                                            31, ...],\n",
              "                         'min_samples_split': [2, 3, 4]},\n",
              "             verbose=1)"
            ]
          },
          "metadata": {},
          "execution_count": 123
        }
      ],
      "source": [
        "from sklearn.model_selection import GridSearchCV\n",
        "\n",
        "params = {'max_leaf_nodes': list(range(2, 100)), 'min_samples_split': [2, 3, 4]}\n",
        "grid_search_cv = GridSearchCV(DecisionTreeClassifier(random_state=42), params, verbose=1, cv=3)\n",
        "\n",
        "grid_search_cv.fit(X_train, y_train)"
      ]
    },
    {
      "cell_type": "code",
      "execution_count": null,
      "metadata": {
        "execution": {
          "iopub.execute_input": "2021-10-23T12:53:42.695023Z",
          "iopub.status.busy": "2021-10-23T12:53:42.693943Z",
          "iopub.status.idle": "2021-10-23T12:53:42.708483Z",
          "shell.execute_reply": "2021-10-23T12:53:42.708990Z"
        },
        "id": "lL_9v-LU4JXR",
        "outputId": "4676627c-63cc-4df5-9e99-9f514dad2617",
        "colab": {
          "base_uri": "https://localhost:8080/"
        }
      },
      "outputs": [
        {
          "output_type": "execute_result",
          "data": {
            "text/plain": [
              "DecisionTreeClassifier(max_leaf_nodes=17, random_state=42)"
            ]
          },
          "metadata": {},
          "execution_count": 124
        }
      ],
      "source": [
        "grid_search_cv.best_estimator_"
      ]
    },
    {
      "cell_type": "markdown",
      "metadata": {
        "id": "hVFKbS1M4JXS"
      },
      "source": [
        "d. 찾은 매개변수를 사용해 전체 훈련 세트에 대해 모델을 훈련시키고 테스트 세트에서 성능을 측정합니다. 대략 85~87%의 정확도가 나올 것입니다."
      ]
    },
    {
      "cell_type": "markdown",
      "metadata": {
        "id": "9qUw9pVi4JXS"
      },
      "source": [
        "기본적으로 `GridSearchCV`는 전체 훈련 세트로 찾은 최적의 모델을 다시 훈련시킵니다(`refit=False`로 지정해서 바꿀 수 있습니다). 그래서 별도로 작업할 필요가 없습니다. 모델의 정확도를 바로 평가할 수 있습니다:"
      ]
    },
    {
      "cell_type": "code",
      "execution_count": null,
      "metadata": {
        "execution": {
          "iopub.execute_input": "2021-10-23T12:53:42.714857Z",
          "iopub.status.busy": "2021-10-23T12:53:42.713944Z",
          "iopub.status.idle": "2021-10-23T12:53:42.718727Z",
          "shell.execute_reply": "2021-10-23T12:53:42.719390Z"
        },
        "id": "EUCTH2qA4JXT",
        "outputId": "6453a7fe-456a-4aa4-dbdc-0ccd17ecf77c",
        "colab": {
          "base_uri": "https://localhost:8080/"
        }
      },
      "outputs": [
        {
          "output_type": "execute_result",
          "data": {
            "text/plain": [
              "0.8695"
            ]
          },
          "metadata": {},
          "execution_count": 125
        }
      ],
      "source": [
        "from sklearn.metrics import accuracy_score\n",
        "\n",
        "y_pred = grid_search_cv.predict(X_test)\n",
        "accuracy_score(y_test, y_pred)"
      ]
    },
    {
      "cell_type": "markdown",
      "source": [
        "# 8 번"
      ],
      "metadata": {
        "id": "_FkLCJpD3MjQ"
      }
    },
    {
      "cell_type": "markdown",
      "source": [
        "## 8번 내 풀이"
      ],
      "metadata": {
        "id": "u43cAkab3Q3P"
      }
    },
    {
      "cell_type": "markdown",
      "source": [
        "- 다음 단계를 따라 랜덤 포레스트를 만들어 보세요"
      ],
      "metadata": {
        "id": "nCBcjf7S3Tui"
      }
    },
    {
      "cell_type": "markdown",
      "source": [
        "1. 이전 연습문제에 이어서, 훈련세트의 서브셋을 1,000개 생성합니다. 각각은 무작위로 선택된 100개의 샘플을 담고있습니다. \n",
        "    - 힌트 : 사이킷런의 ShuffleSplit을 사용할 수 있습니다.\n",
        "\n",
        "2. 이전 연습문제에서 찾은 최적의 매개변수를 사용해 각 서브셋에 결정 트리를 훈련시킵니다. 테스트 세트로 이 1,000개의 결정 트리를 평가합니다. 더 작은 데이터셋에서 훈련되었기 때문에 이 결정 트리는 앞서 만든 결정 트리보다 성능이 떨어져 약 80%의 정확도를 냅니다."
      ],
      "metadata": {
        "id": "CIb9oNWc3Yn5"
      }
    },
    {
      "cell_type": "code",
      "source": [
        "# from sklearn.model_selection import ShuffleSplit\n",
        "import numpy as np\n",
        "# \n",
        "# shuffle_split = ShuffleSplit(n_splits = 1000, train_size= 100,random_state= 23)\n",
        "# Result = []\n",
        "# Ypredict = []\n",
        "# for train_index, test_index in shuffle_split.split(X_train):\n",
        "#     X_train_train = X_train[train_index]\n",
        "#     y_train_train = y_train[train_index]\n",
        "#     rnd_search_cv.best_estimator_.fit(X_train_train,y_train_train)\n",
        "#     y_pred = rnd_search_cv.best_estimator_.predict(X_test)  \n",
        "#     Result.append(accuracy_score(y_test, y_pred))\n",
        "#     Ypredict.append(y_pred)\n",
        "# \n",
        "# print(np.mean(Result))"
      ],
      "metadata": {
        "id": "WTUfvSrr3rSz"
      },
      "execution_count": null,
      "outputs": []
    },
    {
      "cell_type": "code",
      "source": [
        "Result = []\n",
        "Ypredict = []\n",
        "\n",
        "for _ in range(1000):\n",
        "    X_train_train, X_test_test, y_train_train, y_test_test = train_test_split(X_train, y_train, train_size = 100)\n",
        "    rnd_search_cv.best_estimator_.fit(X_train_train,y_train_train)\n",
        "    y_pred = rnd_search_cv.best_estimator_.predict(X_test)  \n",
        "    Result.append(accuracy_score(y_test, y_pred))\n",
        "    Ypredict.append(y_pred)\n",
        "\n",
        "print(np.mean(Result))"
      ],
      "metadata": {
        "id": "DrgkxtsbIkOj",
        "colab": {
          "base_uri": "https://localhost:8080/"
        },
        "outputId": "b73ff509-0d8a-42d8-de8c-d4a24cf80dee"
      },
      "execution_count": null,
      "outputs": [
        {
          "output_type": "stream",
          "name": "stdout",
          "text": [
            "0.7995\n"
          ]
        }
      ]
    },
    {
      "cell_type": "markdown",
      "source": [
        "3. 이제 마술을 부릴 차례입니다. 각 테스트 세트 샘플에 대해 1,000개의 결정 트리 예측을 만들고 다수로 나온 예측만 취합니다(사이파이의 mode() 함수를 사용할 수 있습니다). 그러면 테스트 세트에 대한 **다수결 예측**이 만들어집니다."
      ],
      "metadata": {
        "id": "ae6_3ViDAf6R"
      }
    },
    {
      "cell_type": "code",
      "source": [
        "Last = [0 for _ in range(len(X_test))]\n",
        "for i in range(len(X_test)):\n",
        "    for j in range(1000):\n",
        "        Last[i] += Ypredict[j][i]\n",
        "\n",
        "for i in range(len(X_test)):\n",
        "    if Last[i] > 500:\n",
        "        Last[i] = 1\n",
        "    else:\n",
        "        Last[i] = 0"
      ],
      "metadata": {
        "id": "Q7dCUorBA3Gw"
      },
      "execution_count": null,
      "outputs": []
    },
    {
      "cell_type": "code",
      "source": [
        "print(Last)"
      ],
      "metadata": {
        "colab": {
          "base_uri": "https://localhost:8080/"
        },
        "id": "ErzWamzkGW8J",
        "outputId": "60ed2da2-e240-431a-88da-1e4977fab2dc"
      },
      "execution_count": null,
      "outputs": [
        {
          "output_type": "stream",
          "name": "stdout",
          "text": [
            "[1, 0, 0, 1, 1, 1, 1, 0, 1, 0, 0, 0, 0, 1, 1, 1, 1, 1, 1, 0, 0, 1, 1, 1, 0, 0, 0, 1, 1, 1, 0, 0, 0, 0, 0, 0, 1, 0, 0, 1, 1, 0, 1, 1, 1, 0, 0, 1, 0, 0, 0, 1, 1, 0, 1, 1, 1, 0, 0, 1, 1, 1, 1, 0, 1, 1, 1, 0, 0, 0, 0, 0, 1, 1, 1, 0, 0, 1, 0, 1, 1, 0, 0, 1, 0, 0, 0, 0, 0, 1, 0, 0, 1, 0, 0, 0, 0, 0, 1, 1, 0, 1, 1, 1, 0, 0, 0, 1, 1, 0, 1, 1, 0, 0, 1, 1, 0, 0, 1, 1, 1, 0, 1, 1, 1, 0, 1, 1, 0, 1, 1, 1, 0, 0, 0, 0, 1, 1, 0, 0, 0, 0, 0, 1, 1, 1, 0, 0, 0, 0, 1, 0, 0, 0, 1, 1, 0, 1, 1, 1, 1, 0, 1, 0, 1, 1, 1, 0, 1, 0, 0, 1, 0, 1, 1, 1, 1, 0, 1, 1, 0, 1, 0, 0, 0, 1, 1, 0, 1, 0, 1, 0, 1, 1, 0, 1, 1, 1, 1, 1, 1, 1, 0, 0, 0, 0, 0, 0, 1, 1, 0, 0, 1, 0, 1, 1, 0, 0, 0, 0, 0, 1, 0, 1, 0, 1, 1, 1, 0, 1, 0, 0, 1, 1, 0, 0, 1, 1, 0, 0, 0, 0, 0, 1, 1, 1, 0, 0, 0, 0, 1, 1, 0, 0, 1, 0, 0, 0, 1, 0, 0, 1, 1, 0, 1, 1, 1, 1, 1, 1, 0, 1, 1, 1, 1, 0, 1, 1, 1, 1, 1, 1, 0, 1, 0, 0, 1, 0, 0, 0, 0, 0, 0, 1, 0, 1, 1, 0, 1, 1]\n"
          ]
        }
      ]
    },
    {
      "cell_type": "markdown",
      "source": [
        "4. 테스트 세트에서 이 예측을 평가합니다. 앞서 만든 모델보다 조금 높은(약 0.5 ~ 1.5% 정도) 정확도를 얻게 될것입니다. 축하합니다. 랜덤 포레스트 분류기를 훈련시켰습니다."
      ],
      "metadata": {
        "id": "WRY0i1XYD1fz"
      }
    },
    {
      "cell_type": "code",
      "source": [
        "accuracy_score(y_test, Last)"
      ],
      "metadata": {
        "colab": {
          "base_uri": "https://localhost:8080/"
        },
        "id": "88ecyEjQEmcD",
        "outputId": "fdd01b27-b6e6-498f-d19b-397dee0fcfb9"
      },
      "execution_count": null,
      "outputs": [
        {
          "output_type": "execute_result",
          "data": {
            "text/plain": [
              "0.8533333333333334"
            ]
          },
          "metadata": {},
          "execution_count": 177
        }
      ]
    },
    {
      "cell_type": "markdown",
      "metadata": {
        "id": "ptd8QUDE4JXT"
      },
      "source": [
        "## 8."
      ]
    },
    {
      "cell_type": "markdown",
      "metadata": {
        "id": "ZKVjc3tv4JXU"
      },
      "source": [
        "_문제: 랜덤 포레스트를 만들어보세요._"
      ]
    },
    {
      "cell_type": "markdown",
      "metadata": {
        "id": "roZps3N24JXU"
      },
      "source": [
        "a. 이전 연습문제에 이어서, 훈련 세트의 서브셋을 1,000개 생성합니다. 각각은 무작위로 선택된 100개의 샘플을 담고 있습니다. 힌트: 사이킷런의 `ShuffleSplit`을 사용할 수 있습니다."
      ]
    },
    {
      "cell_type": "code",
      "execution_count": null,
      "metadata": {
        "execution": {
          "iopub.execute_input": "2021-10-23T12:53:42.727046Z",
          "iopub.status.busy": "2021-10-23T12:53:42.726143Z",
          "iopub.status.idle": "2021-10-23T12:53:43.198599Z",
          "shell.execute_reply": "2021-10-23T12:53:43.199627Z"
        },
        "id": "KFJF0bi44JXU"
      },
      "outputs": [],
      "source": [
        "from sklearn.model_selection import ShuffleSplit\n",
        "\n",
        "n_trees = 1000\n",
        "n_instances = 100\n",
        "\n",
        "mini_sets = []\n",
        "\n",
        "rs = ShuffleSplit(n_splits=n_trees, test_size=len(X_train) - n_instances, random_state=42)\n",
        "for mini_train_index, mini_test_index in rs.split(X_train):\n",
        "    X_mini_train = X_train[mini_train_index]\n",
        "    y_mini_train = y_train[mini_train_index]\n",
        "    mini_sets.append((X_mini_train, y_mini_train))"
      ]
    },
    {
      "cell_type": "markdown",
      "metadata": {
        "id": "_erSI0AH4JXV"
      },
      "source": [
        "b. 앞에서 찾은 최적의 매개변수를 사용해 각 서브셋에 결정 트리를 훈련시킵니다. 테스트 세트로 이 1,000개의 결정 트리를 평가합니다. 더 작은 데이터셋에서 훈련되었기 때문에 이 결정 트리는 앞서 만든 결정 트리보다 성능이 떨어져 약 80%의 정확도를 냅니다."
      ]
    },
    {
      "cell_type": "code",
      "execution_count": null,
      "metadata": {
        "execution": {
          "iopub.execute_input": "2021-10-23T12:53:43.214688Z",
          "iopub.status.busy": "2021-10-23T12:53:43.213839Z",
          "iopub.status.idle": "2021-10-23T12:53:46.544035Z",
          "shell.execute_reply": "2021-10-23T12:53:46.544986Z"
        },
        "id": "clLnXsL-4JXV",
        "outputId": "e66bfdc9-3305-42ec-8a50-20690b62cb5c",
        "colab": {
          "base_uri": "https://localhost:8080/"
        }
      },
      "outputs": [
        {
          "output_type": "execute_result",
          "data": {
            "text/plain": [
              "0.7889133333333332"
            ]
          },
          "metadata": {},
          "execution_count": 179
        }
      ],
      "source": [
        "from sklearn.base import clone\n",
        "\n",
        "forest = [clone(grid_search_cv.best_estimator_) for _ in range(n_trees)]\n",
        "\n",
        "accuracy_scores = []\n",
        "\n",
        "for tree, (X_mini_train, y_mini_train) in zip(forest, mini_sets):\n",
        "    tree.fit(X_mini_train, y_mini_train)\n",
        "    \n",
        "    y_pred = tree.predict(X_test)\n",
        "    accuracy_scores.append(accuracy_score(y_test, y_pred))\n",
        "\n",
        "np.mean(accuracy_scores)"
      ]
    },
    {
      "cell_type": "markdown",
      "metadata": {
        "id": "WPQVej0s4JXW"
      },
      "source": [
        "c. 이제 마술을 부릴 차례입니다. 각 테스트 세트 샘플에 대해 1,000개의 결정 트리 예측을 만들고 다수로 나온 예측만 취합니다(사이파이의 `mode()` 함수를 사용할 수 있습니다). 그러면 테스트 세트에 대한 _다수결 예측_이 만들어집니다."
      ]
    },
    {
      "cell_type": "code",
      "execution_count": null,
      "metadata": {
        "execution": {
          "iopub.execute_input": "2021-10-23T12:53:46.551441Z",
          "iopub.status.busy": "2021-10-23T12:53:46.548321Z",
          "iopub.status.idle": "2021-10-23T12:53:47.064461Z",
          "shell.execute_reply": "2021-10-23T12:53:47.065250Z"
        },
        "id": "NokshcZe4JXW"
      },
      "outputs": [],
      "source": [
        "Y_pred = np.empty([n_trees, len(X_test)], dtype=np.uint8)\n",
        "\n",
        "for tree_index, tree in enumerate(forest):\n",
        "    Y_pred[tree_index] = tree.predict(X_test)"
      ]
    },
    {
      "cell_type": "code",
      "execution_count": null,
      "metadata": {
        "execution": {
          "iopub.execute_input": "2021-10-23T12:53:47.082919Z",
          "iopub.status.busy": "2021-10-23T12:53:47.068344Z",
          "iopub.status.idle": "2021-10-23T12:53:47.330312Z",
          "shell.execute_reply": "2021-10-23T12:53:47.331351Z"
        },
        "id": "oaR4ApSO4JXW"
      },
      "outputs": [],
      "source": [
        "from scipy.stats import mode\n",
        "\n",
        "y_pred_majority_votes, n_votes = mode(Y_pred, axis=0)"
      ]
    },
    {
      "cell_type": "markdown",
      "metadata": {
        "id": "aW6k4CeL4JXX"
      },
      "source": [
        "d. 테스트 세트에서 이 예측을 평가합니다. 앞서 만든 모델보다 조금 높은(약 0.5~1.5% 정도) 정확도를 얻게 될 것입니다. 축하합니다. 랜덤 포레스트 분류기를 훈련시켰습니다!"
      ]
    },
    {
      "cell_type": "code",
      "execution_count": null,
      "metadata": {
        "execution": {
          "iopub.execute_input": "2021-10-23T12:53:47.343320Z",
          "iopub.status.busy": "2021-10-23T12:53:47.342621Z",
          "iopub.status.idle": "2021-10-23T12:53:47.354273Z",
          "shell.execute_reply": "2021-10-23T12:53:47.354743Z"
        },
        "id": "wJ0JvNOl4JXX",
        "outputId": "6df40afc-49be-4d01-8d7e-6a10c5de536f",
        "colab": {
          "base_uri": "https://localhost:8080/"
        }
      },
      "outputs": [
        {
          "output_type": "execute_result",
          "data": {
            "text/plain": [
              "0.85"
            ]
          },
          "metadata": {},
          "execution_count": 182
        }
      ],
      "source": [
        "accuracy_score(y_test, y_pred_majority_votes.reshape([-1]))"
      ]
    }
  ],
  "metadata": {
    "colab": {
      "name": "핸즈온 6단원 연습문제(아직 안함).ipynb",
      "provenance": [],
      "collapsed_sections": [
        "2OmX3vzB4JXO"
      ],
      "authorship_tag": "ABX9TyO1ysUTb5YZ6u8SdSYX+3z0",
      "include_colab_link": true
    },
    "kernelspec": {
      "display_name": "Python 3",
      "name": "python3"
    },
    "language_info": {
      "name": "python"
    }
  },
  "nbformat": 4,
  "nbformat_minor": 0
}