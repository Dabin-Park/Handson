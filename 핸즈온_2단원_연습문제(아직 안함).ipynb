{
  "nbformat": 4,
  "nbformat_minor": 0,
  "metadata": {
    "colab": {
      "name": "핸즈온 2단원 연습문제.ipynb",
      "provenance": [],
      "collapsed_sections": [],
      "authorship_tag": "ABX9TyOgr8uXm46BWInkNTi3VFOo",
      "include_colab_link": true
    },
    "kernelspec": {
      "name": "python3",
      "display_name": "Python 3"
    },
    "language_info": {
      "name": "python"
    }
  },
  "cells": [
    {
      "cell_type": "markdown",
      "metadata": {
        "id": "view-in-github",
        "colab_type": "text"
      },
      "source": [
        "<a href=\"https://colab.research.google.com/github/Dabin-Park/Handson/blob/main/%ED%95%B8%EC%A6%88%EC%98%A8_2%EB%8B%A8%EC%9B%90_%EC%97%B0%EC%8A%B5%EB%AC%B8%EC%A0%9C(%EC%95%84%EC%A7%81%20%EC%95%88%ED%95%A8).ipynb\" target=\"_parent\"><img src=\"https://colab.research.google.com/assets/colab-badge.svg\" alt=\"Open In Colab\"/></a>"
      ]
    },
    {
      "cell_type": "markdown",
      "metadata": {
        "id": "PFY3cPqwjiJ6"
      },
      "source": [
        "# 연습문제 해답"
      ]
    },
    {
      "cell_type": "markdown",
      "metadata": {
        "id": "ESLy2LDtjiJ6"
      },
      "source": [
        "## 1."
      ]
    },
    {
      "cell_type": "markdown",
      "metadata": {
        "collapsed": true,
        "id": "g_N1pw7qjiJ6"
      },
      "source": [
        "질문: 서포트 벡터 머신 회귀(`sklearn.svm.SVR`)를 `kernel=“linear”`(하이퍼파라미터 `C`를 바꿔가며)나 `kernel=“rbf”`(하이퍼파라미터 `C`와 `gamma`를 바꿔가며) 등의 다양한 하이퍼파라미터 설정으로 시도해보세요. 지금은 이 하이퍼파라미터가 무엇을 의미하는지 너무 신경 쓰지 마세요. 최상의 `SVR` 모델은 무엇인가요?\n",
        "\n",
        "**경고**: 사용하는 하드웨어에 따라 다음 셀을 실행하는데 30분 또는 그 이상 걸릴 수 있습니다."
      ]
    },
    {
      "cell_type": "code",
      "execution_count": null,
      "metadata": {
        "execution": {
          "iopub.execute_input": "2021-11-03T03:40:42.944739Z",
          "iopub.status.busy": "2021-11-03T03:40:42.944074Z",
          "iopub.status.idle": "2021-11-03T04:38:09.200525Z",
          "shell.execute_reply": "2021-11-03T04:38:09.199877Z"
        },
        "id": "VI6XJaQ1jiJ6"
      },
      "outputs": [],
      "source": [
        "from sklearn.model_selection import GridSearchCV\n",
        "\n",
        "param_grid = [\n",
        "        {'kernel': ['linear'], 'C': [10., 30., 100., 300., 1000., 3000., 10000., 30000.0]},\n",
        "        {'kernel': ['rbf'], 'C': [1.0, 3.0, 10., 30., 100., 300., 1000.0],\n",
        "         'gamma': [0.01, 0.03, 0.1, 0.3, 1.0, 3.0]},\n",
        "    ]\n",
        "\n",
        "svm_reg = SVR()\n",
        "grid_search = GridSearchCV(svm_reg, param_grid, cv=5, scoring='neg_mean_squared_error', verbose=2)\n",
        "grid_search.fit(housing_prepared, housing_labels)"
      ]
    },
    {
      "cell_type": "markdown",
      "metadata": {
        "id": "c45dcD9RjiJ7"
      },
      "source": [
        "최상 모델의 (5-폴드 교차 검증으로 평가한) 점수는 다음과 같습니다:"
      ]
    },
    {
      "cell_type": "code",
      "execution_count": null,
      "metadata": {
        "execution": {
          "iopub.execute_input": "2021-11-03T04:38:09.205126Z",
          "iopub.status.busy": "2021-11-03T04:38:09.204525Z",
          "iopub.status.idle": "2021-11-03T04:38:09.207046Z",
          "shell.execute_reply": "2021-11-03T04:38:09.207492Z"
        },
        "id": "Ek0lGVl6jiJ7"
      },
      "outputs": [],
      "source": [
        "negative_mse = grid_search.best_score_\n",
        "rmse = np.sqrt(-negative_mse)\n",
        "rmse"
      ]
    },
    {
      "cell_type": "markdown",
      "metadata": {
        "id": "I30kj9H2jiJ7"
      },
      "source": [
        "`RandomForestRegressor`보다 훨씬 좋지 않네요. 최상의 하이퍼파라미터를 확인해 보겠습니다:"
      ]
    },
    {
      "cell_type": "code",
      "execution_count": null,
      "metadata": {
        "execution": {
          "iopub.execute_input": "2021-11-03T04:38:09.211320Z",
          "iopub.status.busy": "2021-11-03T04:38:09.209766Z",
          "iopub.status.idle": "2021-11-03T04:38:09.213885Z",
          "shell.execute_reply": "2021-11-03T04:38:09.214295Z"
        },
        "id": "VIM3KHfHjiJ7"
      },
      "outputs": [],
      "source": [
        "grid_search.best_params_"
      ]
    },
    {
      "cell_type": "markdown",
      "metadata": {
        "id": "vwXnH2XvjiJ7"
      },
      "source": [
        "선형 커널이 RBF 커널보다 성능이 나은 것 같습니다. `C`는 테스트한 것 중에 최대값이 선택되었습니다. 따라서 (작은 값들은 지우고) 더 큰 값의 `C`로 그리드서치를 다시 실행해 보아야 합니다. 아마도 더 큰 값의 `C`에서 성능이 높아질 것입니다."
      ]
    },
    {
      "cell_type": "markdown",
      "metadata": {
        "id": "BmURRW_NjiJ7"
      },
      "source": [
        "## 2."
      ]
    },
    {
      "cell_type": "markdown",
      "metadata": {
        "id": "Jd2PwI1njiJ7"
      },
      "source": [
        "질문: `GridSearchCV`를 `RandomizedSearchCV`로 바꿔보세요.\n",
        "\n",
        "**경고**: 사용하는 하드웨어에 따라 다음 셀을 실행하는데 45분 또는 그 이상 걸릴 수 있습니다."
      ]
    },
    {
      "cell_type": "code",
      "execution_count": null,
      "metadata": {
        "execution": {
          "iopub.execute_input": "2021-11-03T04:38:09.229776Z",
          "iopub.status.busy": "2021-11-03T04:38:09.229105Z",
          "iopub.status.idle": "2021-11-03T05:54:17.028868Z",
          "shell.execute_reply": "2021-11-03T05:54:17.029317Z"
        },
        "id": "MEGsKIOajiJ7"
      },
      "outputs": [],
      "source": [
        "from sklearn.model_selection import RandomizedSearchCV\n",
        "from scipy.stats import expon, reciprocal\n",
        "\n",
        "# expon(), reciprocal()와 그외 다른 확률 분포 함수에 대해서는\n",
        "# https://docs.scipy.org/doc/scipy/reference/stats.html를 참고하세요.\n",
        "\n",
        "# 노트: kernel 매개변수가 \"linear\"일 때는 gamma가 무시됩니다.\n",
        "param_distribs = {\n",
        "        'kernel': ['linear', 'rbf'],\n",
        "        'C': reciprocal(20, 200000),\n",
        "        'gamma': expon(scale=1.0),\n",
        "    }\n",
        "\n",
        "svm_reg = SVR()\n",
        "rnd_search = RandomizedSearchCV(svm_reg, param_distributions=param_distribs,\n",
        "                                n_iter=50, cv=5, scoring='neg_mean_squared_error',\n",
        "                                verbose=2, random_state=42)\n",
        "rnd_search.fit(housing_prepared, housing_labels)"
      ]
    },
    {
      "cell_type": "markdown",
      "metadata": {
        "id": "0QBQ5JvtjiJ8"
      },
      "source": [
        "최상 모델의 (5-폴드 교차 검증으로 평가한) 점수는 다음과 같습니다:"
      ]
    },
    {
      "cell_type": "code",
      "execution_count": null,
      "metadata": {
        "execution": {
          "iopub.execute_input": "2021-11-03T05:54:17.034290Z",
          "iopub.status.busy": "2021-11-03T05:54:17.033700Z",
          "iopub.status.idle": "2021-11-03T05:54:17.036149Z",
          "shell.execute_reply": "2021-11-03T05:54:17.036584Z"
        },
        "id": "A0jpOkqXjiJ8"
      },
      "outputs": [],
      "source": [
        "negative_mse = rnd_search.best_score_\n",
        "rmse = np.sqrt(-negative_mse)\n",
        "rmse"
      ]
    },
    {
      "cell_type": "markdown",
      "metadata": {
        "id": "CrYx2DhUjiJ8"
      },
      "source": [
        "이제 `RandomForestRegressor`의 성능에 훨씬 가까워졌습니다(하지만 아직 차이가 납니다). 최상의 하이퍼파라미터를 확인해 보겠습니다:"
      ]
    },
    {
      "cell_type": "code",
      "execution_count": null,
      "metadata": {
        "execution": {
          "iopub.execute_input": "2021-11-03T05:54:17.039836Z",
          "iopub.status.busy": "2021-11-03T05:54:17.039239Z",
          "iopub.status.idle": "2021-11-03T05:54:17.043409Z",
          "shell.execute_reply": "2021-11-03T05:54:17.043827Z"
        },
        "id": "Szg1NzVqjiJ8"
      },
      "outputs": [],
      "source": [
        "rnd_search.best_params_"
      ]
    },
    {
      "cell_type": "markdown",
      "metadata": {
        "id": "_iki0-yvjiJ8"
      },
      "source": [
        "이번에는 RBF 커널에 대해 최적의 하이퍼파라미터 조합을 찾았습니다. 보통 랜덤서치가 같은 시간안에 그리드서치보다 더 좋은 하이퍼파라미터를 찾습니다."
      ]
    },
    {
      "cell_type": "markdown",
      "metadata": {
        "id": "5kh50hOrjiJ8"
      },
      "source": [
        "여기서 사용된 `scale=1.0`인 지수 분포를 살펴보겠습니다. 일부 샘플은 1.0보다 아주 크거나 작습니다. 하지만 로그 분포를 보면 대부분의 값이 exp(-2)와 exp(+2), 즉 0.1과 7.4 사이에 집중되어 있음을 알 수 있습니다."
      ]
    },
    {
      "cell_type": "code",
      "execution_count": null,
      "metadata": {
        "execution": {
          "iopub.execute_input": "2021-11-03T05:54:17.049802Z",
          "iopub.status.busy": "2021-11-03T05:54:17.049168Z",
          "iopub.status.idle": "2021-11-03T05:54:17.375619Z",
          "shell.execute_reply": "2021-11-03T05:54:17.376051Z"
        },
        "id": "KoBAvGasjiJ8"
      },
      "outputs": [],
      "source": [
        "expon_distrib = expon(scale=1.)\n",
        "samples = expon_distrib.rvs(10000, random_state=42)\n",
        "plt.figure(figsize=(10, 4))\n",
        "plt.subplot(121)\n",
        "plt.title(\"Exponential distribution (scale=1.0)\")\n",
        "plt.hist(samples, bins=50)\n",
        "plt.subplot(122)\n",
        "plt.title(\"Log of this distribution\")\n",
        "plt.hist(np.log(samples), bins=50)\n",
        "plt.show()"
      ]
    },
    {
      "cell_type": "markdown",
      "metadata": {
        "id": "R7SjShKUjiJ9"
      },
      "source": [
        "`C`에 사용된 분포는 매우 다릅니다. 주어진 범위안에서 균등 분포로 샘플링됩니다. 그래서 오른쪽 로그 분포가 거의 일정하게 나타납니다. 이런 분포는 원하는 스케일이 정확이 무엇인지 모를 때 사용하면 좋습니다:"
      ]
    },
    {
      "cell_type": "code",
      "execution_count": null,
      "metadata": {
        "execution": {
          "iopub.execute_input": "2021-11-03T05:54:17.381839Z",
          "iopub.status.busy": "2021-11-03T05:54:17.378566Z",
          "iopub.status.idle": "2021-11-03T05:54:17.787344Z",
          "shell.execute_reply": "2021-11-03T05:54:17.787790Z"
        },
        "id": "LmEaxhG7jiJ9"
      },
      "outputs": [],
      "source": [
        "reciprocal_distrib = reciprocal(20, 200000)\n",
        "samples = reciprocal_distrib.rvs(10000, random_state=42)\n",
        "plt.figure(figsize=(10, 4))\n",
        "plt.subplot(121)\n",
        "plt.title(\"Reciprocal distribution (scale=1.0)\")\n",
        "plt.hist(samples, bins=50)\n",
        "plt.subplot(122)\n",
        "plt.title(\"Log of this distribution\")\n",
        "plt.hist(np.log(samples), bins=50)\n",
        "plt.show()"
      ]
    },
    {
      "cell_type": "markdown",
      "metadata": {
        "id": "3VSCCYCljiJ9"
      },
      "source": [
        "`reciprocal()` 함수는 하이퍼파라미터의 스케일에 대해 전혀 감을 잡을 수 없을 때 사용합니다(오른쪽 그래프에서 볼 수 있듯이 주어진 범위안에서 모든 값이 균등합니다). 반면 지수 분포는 하이퍼파라미터의 스케일을 (어느정도) 알고 있을 때 사용하는 것이 좋습니다."
      ]
    },
    {
      "cell_type": "markdown",
      "metadata": {
        "id": "mfutjtxvjiJ9"
      },
      "source": [
        "## 3."
      ]
    },
    {
      "cell_type": "markdown",
      "metadata": {
        "id": "ZMX7Lr__jiJ9"
      },
      "source": [
        "질문: 가장 중요한 특성을 선택하는 변환기를 준비 파이프라인에 추가해보세요."
      ]
    },
    {
      "cell_type": "code",
      "execution_count": null,
      "metadata": {
        "execution": {
          "iopub.execute_input": "2021-11-03T05:54:17.793916Z",
          "iopub.status.busy": "2021-11-03T05:54:17.793283Z",
          "iopub.status.idle": "2021-11-03T05:54:17.796052Z",
          "shell.execute_reply": "2021-11-03T05:54:17.795497Z"
        },
        "id": "5dIl85POjiJ9"
      },
      "outputs": [],
      "source": [
        "from sklearn.base import BaseEstimator, TransformerMixin\n",
        "\n",
        "def indices_of_top_k(arr, k):\n",
        "    return np.sort(np.argpartition(np.array(arr), -k)[-k:])\n",
        "\n",
        "class TopFeatureSelector(BaseEstimator, TransformerMixin):\n",
        "    def __init__(self, feature_importances, k):\n",
        "        self.feature_importances = feature_importances\n",
        "        self.k = k\n",
        "    def fit(self, X, y=None):\n",
        "        self.feature_indices_ = indices_of_top_k(self.feature_importances, self.k)\n",
        "        return self\n",
        "    def transform(self, X):\n",
        "        return X[:, self.feature_indices_]"
      ]
    },
    {
      "cell_type": "markdown",
      "metadata": {
        "id": "h9o3Nud5jiJ-"
      },
      "source": [
        "노트: 이 특성 선택 클래스는 이미 어떤 식으로든 특성 중요도를 계산했다고 가정합니다(가령 `RandomForestRegressor`을 사용하여). `TopFeatureSelector`의 `fit()` 메서드에서 직접 계산할 수도 있지만 (캐싱을 사용하지 않을 경우) 그리드서치나 랜덤서치의 모든 하이퍼파라미터 조합에 대해 계산이 일어나기 때문에 매우 느려집니다."
      ]
    },
    {
      "cell_type": "markdown",
      "metadata": {
        "id": "7yF-k60wjiJ-"
      },
      "source": [
        "선택할 특성의 개수를 지정합니다:"
      ]
    },
    {
      "cell_type": "code",
      "execution_count": null,
      "metadata": {
        "execution": {
          "iopub.execute_input": "2021-11-03T05:54:17.800473Z",
          "iopub.status.busy": "2021-11-03T05:54:17.799291Z",
          "iopub.status.idle": "2021-11-03T05:54:17.801110Z",
          "shell.execute_reply": "2021-11-03T05:54:17.801556Z"
        },
        "id": "GNr8iKuvjiJ-"
      },
      "outputs": [],
      "source": [
        "k = 5"
      ]
    },
    {
      "cell_type": "markdown",
      "metadata": {
        "id": "TTRtPKaxjiJ-"
      },
      "source": [
        "최상의 k개 특성의 인덱스를 확인해 보겠습니다:"
      ]
    },
    {
      "cell_type": "code",
      "execution_count": null,
      "metadata": {
        "execution": {
          "iopub.execute_input": "2021-11-03T05:54:17.806770Z",
          "iopub.status.busy": "2021-11-03T05:54:17.805823Z",
          "iopub.status.idle": "2021-11-03T05:54:17.809246Z",
          "shell.execute_reply": "2021-11-03T05:54:17.808715Z"
        },
        "id": "mGl2k0AljiJ-"
      },
      "outputs": [],
      "source": [
        "top_k_feature_indices = indices_of_top_k(feature_importances, k)\n",
        "top_k_feature_indices"
      ]
    },
    {
      "cell_type": "code",
      "execution_count": null,
      "metadata": {
        "execution": {
          "iopub.execute_input": "2021-11-03T05:54:17.813295Z",
          "iopub.status.busy": "2021-11-03T05:54:17.812633Z",
          "iopub.status.idle": "2021-11-03T05:54:17.815241Z",
          "shell.execute_reply": "2021-11-03T05:54:17.815669Z"
        },
        "id": "7odrwXz-jiJ-"
      },
      "outputs": [],
      "source": [
        "np.array(attributes)[top_k_feature_indices]"
      ]
    },
    {
      "cell_type": "markdown",
      "metadata": {
        "id": "Q8Z4QkdPjiJ-"
      },
      "source": [
        "최상의 k개 특성이 맞는지 다시 확인합니다:"
      ]
    },
    {
      "cell_type": "code",
      "execution_count": null,
      "metadata": {
        "execution": {
          "iopub.execute_input": "2021-11-03T05:54:17.820236Z",
          "iopub.status.busy": "2021-11-03T05:54:17.819636Z",
          "iopub.status.idle": "2021-11-03T05:54:17.824882Z",
          "shell.execute_reply": "2021-11-03T05:54:17.824292Z"
        },
        "id": "pcIWPZOJjiJ_"
      },
      "outputs": [],
      "source": [
        "sorted(zip(feature_importances, attributes), reverse=True)[:k]"
      ]
    },
    {
      "cell_type": "markdown",
      "metadata": {
        "id": "la1biJD-jiJ_"
      },
      "source": [
        "좋습니다. 이제 이전에 정의한 준비 파이프라인과 특성 선택기를 추가한 새로운 파이프라인을 만듭니다:"
      ]
    },
    {
      "cell_type": "code",
      "execution_count": null,
      "metadata": {
        "execution": {
          "iopub.execute_input": "2021-11-03T05:54:17.829108Z",
          "iopub.status.busy": "2021-11-03T05:54:17.828299Z",
          "iopub.status.idle": "2021-11-03T05:54:17.829904Z",
          "shell.execute_reply": "2021-11-03T05:54:17.830353Z"
        },
        "id": "by4mzodRjiJ_"
      },
      "outputs": [],
      "source": [
        "preparation_and_feature_selection_pipeline = Pipeline([\n",
        "    ('preparation', full_pipeline),\n",
        "    ('feature_selection', TopFeatureSelector(feature_importances, k))\n",
        "])"
      ]
    },
    {
      "cell_type": "code",
      "execution_count": null,
      "metadata": {
        "execution": {
          "iopub.execute_input": "2021-11-03T05:54:17.833409Z",
          "iopub.status.busy": "2021-11-03T05:54:17.832686Z",
          "iopub.status.idle": "2021-11-03T05:54:17.870332Z",
          "shell.execute_reply": "2021-11-03T05:54:17.869564Z"
        },
        "id": "vKUF6P-HjiKA"
      },
      "outputs": [],
      "source": [
        "housing_prepared_top_k_features = preparation_and_feature_selection_pipeline.fit_transform(housing)"
      ]
    },
    {
      "cell_type": "markdown",
      "metadata": {
        "id": "WbukCZKVjiKA"
      },
      "source": [
        "처음 3개 샘플의 특성을 확인해 보겠습니다:"
      ]
    },
    {
      "cell_type": "code",
      "execution_count": null,
      "metadata": {
        "execution": {
          "iopub.execute_input": "2021-11-03T05:54:17.875203Z",
          "iopub.status.busy": "2021-11-03T05:54:17.874575Z",
          "iopub.status.idle": "2021-11-03T05:54:17.879215Z",
          "shell.execute_reply": "2021-11-03T05:54:17.879722Z"
        },
        "id": "PlO1hsDJjiKA"
      },
      "outputs": [],
      "source": [
        "housing_prepared_top_k_features[0:3]"
      ]
    },
    {
      "cell_type": "markdown",
      "metadata": {
        "id": "o-_Jt_4mjiKA"
      },
      "source": [
        "최상의 k개 특성이 맞는지 다시 확인합니다:"
      ]
    },
    {
      "cell_type": "code",
      "execution_count": null,
      "metadata": {
        "execution": {
          "iopub.execute_input": "2021-11-03T05:54:17.882774Z",
          "iopub.status.busy": "2021-11-03T05:54:17.882071Z",
          "iopub.status.idle": "2021-11-03T05:54:17.885915Z",
          "shell.execute_reply": "2021-11-03T05:54:17.886333Z"
        },
        "id": "224kpY7ijiKA"
      },
      "outputs": [],
      "source": [
        "housing_prepared[0:3, top_k_feature_indices]"
      ]
    },
    {
      "cell_type": "markdown",
      "metadata": {
        "id": "sRhB5Cl1jiKA"
      },
      "source": [
        "성공입니다!  :)"
      ]
    },
    {
      "cell_type": "markdown",
      "metadata": {
        "id": "m6Lc8vFIjiKB"
      },
      "source": [
        "## 4."
      ]
    },
    {
      "cell_type": "markdown",
      "metadata": {
        "id": "kxVqiVvejiKB"
      },
      "source": [
        "질문: 전체 데이터 준비 과정과 최종 예측을 하나의 파이프라인으로 만들어보세요."
      ]
    },
    {
      "cell_type": "code",
      "execution_count": null,
      "metadata": {
        "execution": {
          "iopub.execute_input": "2021-11-03T05:54:17.891010Z",
          "iopub.status.busy": "2021-11-03T05:54:17.889385Z",
          "iopub.status.idle": "2021-11-03T05:54:17.893061Z",
          "shell.execute_reply": "2021-11-03T05:54:17.892487Z"
        },
        "id": "7r_UzFI2jiKB"
      },
      "outputs": [],
      "source": [
        "prepare_select_and_predict_pipeline = Pipeline([\n",
        "    ('preparation', full_pipeline),\n",
        "    ('feature_selection', TopFeatureSelector(feature_importances, k)),\n",
        "    ('svm_reg', SVR(**rnd_search.best_params_))\n",
        "])"
      ]
    },
    {
      "cell_type": "code",
      "execution_count": null,
      "metadata": {
        "execution": {
          "iopub.execute_input": "2021-11-03T05:54:17.900199Z",
          "iopub.status.busy": "2021-11-03T05:54:17.899506Z",
          "iopub.status.idle": "2021-11-03T05:54:36.283554Z",
          "shell.execute_reply": "2021-11-03T05:54:36.284020Z"
        },
        "id": "ey4GiGQRjiKB"
      },
      "outputs": [],
      "source": [
        "prepare_select_and_predict_pipeline.fit(housing, housing_labels)"
      ]
    },
    {
      "cell_type": "markdown",
      "metadata": {
        "id": "ug8qRci3jiKB"
      },
      "source": [
        "몇 개의 샘플에 전체 파이프라인을 적용해 보겠습니다:"
      ]
    },
    {
      "cell_type": "code",
      "execution_count": null,
      "metadata": {
        "execution": {
          "iopub.execute_input": "2021-11-03T05:54:36.291856Z",
          "iopub.status.busy": "2021-11-03T05:54:36.286763Z",
          "iopub.status.idle": "2021-11-03T05:54:36.300247Z",
          "shell.execute_reply": "2021-11-03T05:54:36.299729Z"
        },
        "id": "FmcSOby3jiKB"
      },
      "outputs": [],
      "source": [
        "some_data = housing.iloc[:4]\n",
        "some_labels = housing_labels.iloc[:4]\n",
        "\n",
        "print(\"Predictions:\\t\", prepare_select_and_predict_pipeline.predict(some_data))\n",
        "print(\"Labels:\\t\\t\", list(some_labels))"
      ]
    },
    {
      "cell_type": "markdown",
      "metadata": {
        "id": "ywwEjM8TjiKB"
      },
      "source": [
        "전체 파이프라인이 잘 작동하는 것 같습니다. 물론 예측 성능이 아주 좋지는 않습니다. `SVR`보다 `RandomForestRegressor`가 더 나은 것 같습니다."
      ]
    },
    {
      "cell_type": "markdown",
      "metadata": {
        "id": "lFmi_6bDjiKB"
      },
      "source": [
        "## 5."
      ]
    },
    {
      "cell_type": "markdown",
      "metadata": {
        "id": "gTLJjmbojiKC"
      },
      "source": [
        "질문: `GridSearchCV`를 사용해 준비 단계의 옵션을 자동으로 탐색해보세요.\n",
        "\n",
        "**경고**: 사용하는 하드웨어에 따라 다음 셀을 실행하는데 45분 또는 그 이상 걸릴 수 있습니다.\n",
        "\n",
        "**노트**: 아래 코드에서 훈련 도중 경고를 피하기 위해 `OneHotEncoder`의 `handle_unknown` 하이퍼파라미터를 `'ignore'`로 지정했습니다. 그렇지 않으면 `OneHotEncoder`는 기본적으로 `handle_unkown='error'`를 사용하기 때문에 데이터를 변활할 때 훈련할 때 없던 범주가 있으면 에러를 냅니다. 기본값을 사용하면 훈련 세트에 모든 카테고리가 들어 있지 않은 폴드를 평가할 때 `GridSearchCV`가 에러를 일으킵니다. `'ISLAND'` 범주에는 샘플이 하나이기 때문에 일어날 가능성이 높습니다. 일부 폴드에서는 테스트 세트 안에 포함될 수 있습니다. 따라서 이런 폴드는 `GridSearchCV`에서 무시하여 피하는 것이 좋습니다."
      ]
    },
    {
      "cell_type": "code",
      "execution_count": null,
      "metadata": {
        "execution": {
          "iopub.execute_input": "2021-11-03T05:54:36.307334Z",
          "iopub.status.busy": "2021-11-03T05:54:36.306593Z",
          "iopub.status.idle": "2021-11-03T07:14:06.433521Z",
          "shell.execute_reply": "2021-11-03T07:14:06.432930Z"
        },
        "id": "uwyELSoWjiKC"
      },
      "outputs": [],
      "source": [
        "full_pipeline.named_transformers_[\"cat\"].handle_unknown = 'ignore'\n",
        "\n",
        "param_grid = [{\n",
        "    'preparation__num__imputer__strategy': ['mean', 'median', 'most_frequent'],\n",
        "    'feature_selection__k': list(range(1, len(feature_importances) + 1))\n",
        "}]\n",
        "\n",
        "grid_search_prep = GridSearchCV(prepare_select_and_predict_pipeline, param_grid, cv=5,\n",
        "                                scoring='neg_mean_squared_error', verbose=2)\n",
        "grid_search_prep.fit(housing, housing_labels)"
      ]
    },
    {
      "cell_type": "code",
      "execution_count": null,
      "metadata": {
        "execution": {
          "iopub.execute_input": "2021-11-03T07:14:06.437916Z",
          "iopub.status.busy": "2021-11-03T07:14:06.437325Z",
          "iopub.status.idle": "2021-11-03T07:14:06.439725Z",
          "shell.execute_reply": "2021-11-03T07:14:06.440133Z"
        },
        "id": "u5uEbE6kjiKC"
      },
      "outputs": [],
      "source": [
        "grid_search_prep.best_params_"
      ]
    },
    {
      "cell_type": "markdown",
      "metadata": {
        "id": "6Wt2Hz-njiKC"
      },
      "source": [
        "최상의 `Imputer` 정책은 `most_frequent`이고 거의 모든 특성이 유용합니다(16개 중 15개). 마지막 특성(`ISLAND`)은 잡음이 추가될 뿐입니다."
      ]
    },
    {
      "cell_type": "markdown",
      "metadata": {
        "id": "sbS0vS01jiKC"
      },
      "source": [
        "축하합니다! 이제 머신러닝에 대해 꽤 많은 것을 알게 되었습니다. :)"
      ]
    }
  ]
}